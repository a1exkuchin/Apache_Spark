{
 "cells": [
  {
   "cell_type": "code",
   "execution_count": 1,
   "metadata": {},
   "outputs": [],
   "source": [
    "from pyspark.sql import SparkSession\n",
    "from pyspark.sql import functions as F\n",
    "\n",
    "spark = SparkSession.builder \\\n",
    "    .master(\"local[4]\") \\\n",
    "    .appName(\"lesson_6\") \\\n",
    "    .config(\"spark.executor.instances\", 2) \\\n",
    "    .config(\"spark.executor.memory\", f'{int(2000/4.4)}mb') \\\n",
    "    .config(\"spark.executor.cores\", 2) \\\n",
    "    .getOrCreate()"
   ]
  },
  {
   "cell_type": "code",
   "execution_count": 31,
   "metadata": {},
   "outputs": [
    {
     "name": "stdout",
     "output_type": "stream",
     "text": [
      "+-----+--------+\n",
      "|group|    word|\n",
      "+-----+--------+\n",
      "|    1|    look|\n",
      "|    1|   spark|\n",
      "|    1|tutorial|\n",
      "|    1|   spark|\n",
      "|    1|    look|\n",
      "|    1|  python|\n",
      "|    1|    geek|\n",
      "|    2|   brain|\n",
      "|    2|homework|\n",
      "|    2|  lesson|\n",
      "|    2|   wheel|\n",
      "|    2| pyspark|\n",
      "|    2| session|\n",
      "|    2| pyspark|\n",
      "+-----+--------+\n",
      "\n"
     ]
    }
   ],
   "source": [
    "# создаём датафрейм\n",
    "words = spark.createDataFrame(\n",
    "    [(1, 'look',), (1, 'spark',), (1, 'tutorial',), (1, 'spark',), (1, 'look', ), (1, 'python', ), (1, 'geek', ), \n",
    "     (2, 'brain', ), (2, 'homework', ), (2, 'lesson', ), (2, 'wheel', ), (2, 'pyspark', ), (2, 'session', ), (2, 'pyspark', ), ], \n",
    "    ['group', 'word'])\n",
    "words.show()"
   ]
  },
  {
   "cell_type": "markdown",
   "metadata": {},
   "source": [
    "#### Задание 1\n",
    "Выведите все уникальные слова для каждой группы (используйте collect_set)."
   ]
  },
  {
   "cell_type": "code",
   "execution_count": 32,
   "metadata": {},
   "outputs": [
    {
     "name": "stdout",
     "output_type": "stream",
     "text": [
      "+-----+--------------------+\n",
      "|group|          uniq_words|\n",
      "+-----+--------------------+\n",
      "|    1|[tutorial, geek, ...|\n",
      "|    2|[homework, wheel,...|\n",
      "+-----+--------------------+\n",
      "\n"
     ]
    }
   ],
   "source": [
    "collect = words.groupby(\"group\")\\\n",
    "               .agg(F.collect_set(\"word\").alias('uniq_words'))\n",
    "\n",
    "collect.show()"
   ]
  },
  {
   "cell_type": "code",
   "execution_count": 33,
   "metadata": {},
   "outputs": [
    {
     "data": {
      "text/plain": [
       "[Row(group=1, uniq_words=['tutorial', 'geek', 'spark', 'look', 'python'])]"
      ]
     },
     "execution_count": 33,
     "metadata": {},
     "output_type": "execute_result"
    }
   ],
   "source": [
    "collect.filter(collect.group == 1).collect()"
   ]
  },
  {
   "cell_type": "code",
   "execution_count": 34,
   "metadata": {},
   "outputs": [
    {
     "data": {
      "text/plain": [
       "[Row(group=2, uniq_words=['homework', 'wheel', 'session', 'brain', 'lesson', 'pyspark'])]"
      ]
     },
     "execution_count": 34,
     "metadata": {},
     "output_type": "execute_result"
    }
   ],
   "source": [
    "collect.filter(collect.group == 2).collect()"
   ]
  },
  {
   "cell_type": "markdown",
   "metadata": {},
   "source": [
    "#### Задание 2\n",
    "Выведите все уникальные слова для каждой группы (используйте pandas_udf: pyspark.sql.GroupedData.applyInPandas)."
   ]
  },
  {
   "cell_type": "code",
   "execution_count": 84,
   "metadata": {},
   "outputs": [
    {
     "name": "stdout",
     "output_type": "stream",
     "text": [
      "+-----+--------------------+\n",
      "|group|                word|\n",
      "+-----+--------------------+\n",
      "|    1|[look, spark, tut...|\n",
      "|    2|[brain, homework,...|\n",
      "+-----+--------------------+\n",
      "\n"
     ]
    }
   ],
   "source": [
    "from pyspark.sql.types import StringType, ArrayType, StructType, LongType, StructField\n",
    "import pandas as pd \n",
    "\n",
    "def uniq_(key, df_):\n",
    "    words = df_.word\n",
    "    obj = list(pd.unique(words))\n",
    "    return pd.DataFrame([key + (obj,)]) \n",
    "\n",
    "schema = StructType([ \n",
    "    StructField(\"group\",LongType(),True), \n",
    "    StructField(\"word\",ArrayType(StringType()),True), \n",
    "  ])\n",
    "\n",
    "result = words.groupby(\"group\").applyInPandas(uniq_, schema=schema)\n",
    "result.show()             "
   ]
  },
  {
   "cell_type": "code",
   "execution_count": 85,
   "metadata": {},
   "outputs": [
    {
     "data": {
      "text/plain": [
       "[Row(group=1, word=['look', 'spark', 'tutorial', 'python', 'geek'])]"
      ]
     },
     "execution_count": 85,
     "metadata": {},
     "output_type": "execute_result"
    }
   ],
   "source": [
    "result.filter(result.group == 1).collect()"
   ]
  },
  {
   "cell_type": "code",
   "execution_count": 86,
   "metadata": {},
   "outputs": [
    {
     "data": {
      "text/plain": [
       "[Row(group=2, word=['brain', 'homework', 'lesson', 'wheel', 'pyspark', 'session'])]"
      ]
     },
     "execution_count": 86,
     "metadata": {},
     "output_type": "execute_result"
    }
   ],
   "source": [
    "result.filter(result.group == 2).collect()"
   ]
  },
  {
   "cell_type": "markdown",
   "metadata": {},
   "source": [
    "#### Задание 3\n",
    "Вы собрали уникальные слова для каждой группы, теперь на основе полученной таблицы, посчитайте кол-во слов. Есть несколько способов, один из них - Accumulator"
   ]
  },
  {
   "cell_type": "code",
   "execution_count": 83,
   "metadata": {},
   "outputs": [
    {
     "name": "stdout",
     "output_type": "stream",
     "text": [
      "+--------+-----+\n",
      "|    word|count|\n",
      "+--------+-----+\n",
      "| session|    1|\n",
      "|  lesson|    1|\n",
      "|tutorial|    1|\n",
      "|   wheel|    1|\n",
      "|   spark|    2|\n",
      "| pyspark|    2|\n",
      "|homework|    1|\n",
      "|    look|    2|\n",
      "|    geek|    1|\n",
      "|  python|    1|\n",
      "|   brain|    1|\n",
      "+--------+-----+\n",
      "\n"
     ]
    }
   ],
   "source": [
    "words.groupby(\"word\").count().show()"
   ]
  },
  {
   "cell_type": "code",
   "execution_count": null,
   "metadata": {},
   "outputs": [],
   "source": []
  }
 ],
 "metadata": {
  "kernelspec": {
   "display_name": "Python 3",
   "language": "python",
   "name": "python3"
  },
  "language_info": {
   "codemirror_mode": {
    "name": "ipython",
    "version": 3
   },
   "file_extension": ".py",
   "mimetype": "text/x-python",
   "name": "python",
   "nbconvert_exporter": "python",
   "pygments_lexer": "ipython3",
   "version": "3.8.5"
  }
 },
 "nbformat": 4,
 "nbformat_minor": 4
}
