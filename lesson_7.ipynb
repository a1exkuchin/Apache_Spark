{
 "cells": [
  {
   "cell_type": "code",
   "execution_count": 63,
   "metadata": {},
   "outputs": [],
   "source": [
    "import pandas as pd\n",
    "from sklearn.datasets import load_boston\n",
    "\n",
    "from pyspark.sql import SparkSession\n",
    "from pyspark.ml import Pipeline\n",
    "from pyspark.ml.feature import VectorAssembler\n",
    "from pyspark.ml.regression import RandomForestRegressor\n",
    "from pyspark.ml.evaluation import RegressionEvaluator\n",
    "\n",
    "spark = SparkSession.builder \\\n",
    "    .master(\"local[4]\") \\\n",
    "    .appName(\"lesson_6\") \\\n",
    "    .config(\"spark.executor.instances\", 2) \\\n",
    "    .config(\"spark.executor.memory\", f'{int(2000/4.4)}mb') \\\n",
    "    .config(\"spark.executor.cores\", 2) \\\n",
    "    .getOrCreate()"
   ]
  },
  {
   "cell_type": "code",
   "execution_count": 59,
   "metadata": {},
   "outputs": [],
   "source": [
    "# Загружаем данные\n",
    "data = load_boston()\n",
    "dataset = pd.DataFrame(data['data'], columns=data['feature_names'])\n",
    "dataset['target'] = data['target']\n",
    "\n",
    "# Создаем из данных Spark Data Frame и разбиваем на тестовую и обучающую выборки \n",
    "df = spark.createDataFrame(dataset)\n",
    "train, test = df.randomSplit([0.7, 0.3])"
   ]
  },
  {
   "cell_type": "code",
   "execution_count": 60,
   "metadata": {},
   "outputs": [],
   "source": [
    "# собираем все признаки в один вектор\n",
    "va = VectorAssembler(inputCols=data['feature_names'], outputCol=\"features\")\n",
    "\n",
    "# используем алгоритм случайного леса\n",
    "lr = RandomForestRegressor(featuresCol='features', labelCol='target')"
   ]
  },
  {
   "cell_type": "code",
   "execution_count": 61,
   "metadata": {},
   "outputs": [
    {
     "name": "stdout",
     "output_type": "stream",
     "text": [
      "+---------------------------------------------------------------------------+------+------------------+\n",
      "|features                                                                   |target|prediction        |\n",
      "+---------------------------------------------------------------------------+------+------------------+\n",
      "|[0.0136,75.0,4.0,0.0,0.41,5.888,47.6,7.3197,3.0,469.0,21.1,396.9,14.8]     |18.9  |19.9396683595725  |\n",
      "|[0.02055,85.0,0.74,0.0,0.41,6.383,35.7,9.1876,2.0,313.0,17.3,396.9,5.77]   |24.7  |23.139752879982176|\n",
      "|[0.02729,0.0,7.07,0.0,0.469,7.185,61.1,4.9671,2.0,242.0,17.8,392.83,4.03]  |34.7  |38.43440655504626 |\n",
      "|[0.02985,0.0,2.18,0.0,0.458,6.43,58.7,6.0622,3.0,222.0,18.7,394.12,5.21]   |28.7  |23.491556958326186|\n",
      "|[0.03359,75.0,2.95,0.0,0.428,7.024,15.8,5.4011,3.0,252.0,18.3,395.62,1.98] |34.9  |37.03165499155128 |\n",
      "|[0.04294,28.0,15.04,0.0,0.464,6.249,77.3,3.615,4.0,270.0,18.2,396.9,10.59] |20.6  |21.960818315680413|\n",
      "|[0.04684,0.0,3.41,0.0,0.489,6.417,66.1,3.0923,2.0,270.0,17.8,392.18,8.81]  |22.6  |24.267640327015023|\n",
      "|[0.05059,0.0,4.49,0.0,0.449,6.389,48.0,4.7794,3.0,247.0,18.5,396.9,9.62]   |23.9  |22.444828975490054|\n",
      "|[0.0536,21.0,5.64,0.0,0.439,6.511,21.1,6.8147,4.0,243.0,16.8,396.9,5.28]   |25.0  |25.52641178551216 |\n",
      "|[0.05789,12.5,6.07,0.0,0.409,5.878,21.4,6.498,4.0,345.0,18.9,396.21,8.1]   |22.0  |21.181786061426916|\n",
      "|[0.06899,0.0,25.65,0.0,0.581,5.87,69.7,2.2577,2.0,188.0,19.1,389.15,14.37] |22.0  |20.13282492558101 |\n",
      "|[0.07165,0.0,25.65,0.0,0.581,6.004,84.1,2.1974,2.0,188.0,19.1,377.67,14.27]|20.3  |20.13282492558101 |\n",
      "|[0.07896,0.0,12.83,0.0,0.437,6.273,6.0,4.2515,5.0,398.0,18.7,394.92,6.78]  |24.1  |23.474007983182045|\n",
      "|[0.08014,0.0,5.96,0.0,0.499,5.85,41.5,3.9342,5.0,279.0,19.2,396.9,8.77]    |21.0  |21.137685239066226|\n",
      "|[0.08873,21.0,5.64,0.0,0.439,5.963,45.7,6.8147,4.0,243.0,16.8,395.56,13.45]|19.7  |21.027841650662296|\n",
      "|[0.10084,0.0,10.01,0.0,0.547,6.715,81.6,2.6775,6.0,432.0,17.8,395.59,10.16]|22.8  |23.743920545339144|\n",
      "|[0.10153,0.0,12.83,0.0,0.437,6.279,74.5,4.0522,5.0,398.0,18.7,373.66,11.97]|20.0  |21.24224560203723 |\n",
      "|[0.10793,0.0,8.56,0.0,0.52,6.195,54.4,2.7778,5.0,384.0,20.9,393.49,13.0]   |21.7  |21.021139697411307|\n",
      "|[0.11504,0.0,2.89,0.0,0.445,6.163,69.6,3.4952,2.0,276.0,18.0,391.83,11.34] |21.4  |22.20583918107051 |\n",
      "|[0.1265,25.0,5.13,0.0,0.453,6.762,43.4,7.9809,8.0,284.0,19.7,395.58,9.5]   |25.0  |24.492765204379644|\n",
      "+---------------------------------------------------------------------------+------+------------------+\n",
      "only showing top 20 rows\n",
      "\n"
     ]
    }
   ],
   "source": [
    "# Собираем пайплайн\n",
    "pipeline = Pipeline(stages=[va, lr])\n",
    "\n",
    "# Обучаем модель на обучающих данныыых\n",
    "model = pipeline.fit(train)\n",
    "train_predict = model.transform(train)\n",
    "\n",
    "# Прогоняем модель на тестовых данных\n",
    "test_predict = model.transform(test)\n",
    "test_predict['features', 'target', 'prediction'].show(truncate=False)"
   ]
  },
  {
   "cell_type": "code",
   "execution_count": 76,
   "metadata": {},
   "outputs": [],
   "source": [
    "evaluator = RegressionEvaluator(labelCol='target')\n",
    "\n",
    "mae_train = evaluator.evaluate(train_predict, {evaluator.metricName: 'mae'})\n",
    "mae_test = evaluator.evaluate(test_predict, {evaluator.metricName: 'mae'})"
   ]
  },
  {
   "cell_type": "code",
   "execution_count": 77,
   "metadata": {},
   "outputs": [
    {
     "name": "stdout",
     "output_type": "stream",
     "text": [
      "\n",
      "    Scores:: \n",
      "        train: 1.836783453413188, \n",
      "        test: 2.459304293044101\n",
      "    \n"
     ]
    }
   ],
   "source": [
    "print(f'''\n",
    "    Scores:: \n",
    "        train: {mae_train}, \n",
    "        test: {mae_test}\n",
    "    ''')"
   ]
  },
  {
   "cell_type": "code",
   "execution_count": null,
   "metadata": {},
   "outputs": [],
   "source": []
  }
 ],
 "metadata": {
  "kernelspec": {
   "display_name": "Python 3",
   "language": "python",
   "name": "python3"
  },
  "language_info": {
   "codemirror_mode": {
    "name": "ipython",
    "version": 3
   },
   "file_extension": ".py",
   "mimetype": "text/x-python",
   "name": "python",
   "nbconvert_exporter": "python",
   "pygments_lexer": "ipython3",
   "version": "3.8.5"
  }
 },
 "nbformat": 4,
 "nbformat_minor": 4
}
