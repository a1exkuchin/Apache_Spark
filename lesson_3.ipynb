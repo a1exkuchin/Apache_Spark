{
 "cells": [
  {
   "cell_type": "code",
   "execution_count": 142,
   "metadata": {},
   "outputs": [],
   "source": [
    "from pyspark.sql import SparkSession\n",
    "spark = SparkSession.builder \\\n",
    "    .master(\"local[4]\") \\\n",
    "    .appName(\"Learning_Spark\") \\\n",
    "    .config(\"spark.executor.instances\", 2) \\\n",
    "    .config(\"spark.executor.memory\", f'{int(2000/4.4)}mb') \\\n",
    "    .config(\"spark.executor.cores\", 2) \\\n",
    "    .getOrCreate()\n",
    "\n",
    "sc = spark.sparkContext"
   ]
  },
  {
   "cell_type": "code",
   "execution_count": 143,
   "metadata": {},
   "outputs": [],
   "source": [
    "#считываем файлы\n",
    "test_data = sc.textFile('test.csv')\n",
    "train_data = sc.textFile('train.csv')"
   ]
  },
  {
   "cell_type": "code",
   "execution_count": 144,
   "metadata": {},
   "outputs": [
    {
     "data": {
      "text/plain": [
       "['battery_power,blue,clock_speed,dual_sim,fc,four_g,int_memory,m_dep,mobile_wt,n_cores,pc,px_height,px_width,ram,sc_h,sc_w,talk_time,three_g,touch_screen,wifi,price_range',\n",
       " '842,0,2.2,0,1,0,7,0.6,188,2,2,20,756,2549,9,7,19,0,0,1,1',\n",
       " '1021,1,0.5,1,0,1,53,0.7,136,3,6,905,1988,2631,17,3,7,1,1,0,2']"
      ]
     },
     "execution_count": 144,
     "metadata": {},
     "output_type": "execute_result"
    }
   ],
   "source": [
    "train_data.take(3)"
   ]
  },
  {
   "cell_type": "code",
   "execution_count": 145,
   "metadata": {},
   "outputs": [
    {
     "data": {
      "text/plain": [
       "['id,battery_power,blue,clock_speed,dual_sim,fc,four_g,int_memory,m_dep,mobile_wt,n_cores,pc,px_height,px_width,ram,sc_h,sc_w,talk_time,three_g,touch_screen,wifi',\n",
       " '1,1043,1,1.8,1,14,0,5,0.1,193,3,16,226,1412,3476,12,7,2,0,1,0',\n",
       " '2,841,1,0.5,1,4,1,61,0.8,191,5,12,746,857,3895,6,0,7,1,0,0']"
      ]
     },
     "execution_count": 145,
     "metadata": {},
     "output_type": "execute_result"
    }
   ],
   "source": [
    "test_data.take(3)"
   ]
  },
  {
   "cell_type": "code",
   "execution_count": 146,
   "metadata": {},
   "outputs": [],
   "source": [
    "test_header = test_data.first()\n",
    "train_header = train_data.first()"
   ]
  },
  {
   "cell_type": "code",
   "execution_count": 147,
   "metadata": {},
   "outputs": [],
   "source": [
    "def good_print(rdd, num):\n",
    "    for row in rdd.take(num):\n",
    "        print(row)"
   ]
  },
  {
   "cell_type": "code",
   "execution_count": 148,
   "metadata": {},
   "outputs": [
    {
     "name": "stdout",
     "output_type": "stream",
     "text": [
      "[1.0, 1043.0, 1.0, 1.8, 1.0, 14.0, 0.0, 5.0, 0.1, 193.0, 3.0, 16.0, 226.0, 1412.0, 3476.0, 12.0, 7.0, 2.0, 0.0, 1.0, 0.0]\n",
      "[2.0, 841.0, 1.0, 0.5, 1.0, 4.0, 1.0, 61.0, 0.8, 191.0, 5.0, 12.0, 746.0, 857.0, 3895.0, 6.0, 0.0, 7.0, 1.0, 0.0, 0.0]\n",
      "[3.0, 1807.0, 1.0, 2.8, 0.0, 1.0, 0.0, 27.0, 0.9, 186.0, 3.0, 4.0, 1270.0, 1366.0, 2396.0, 17.0, 10.0, 10.0, 0.0, 1.0, 1.0]\n"
     ]
    }
   ],
   "source": [
    "test_data = test_data.filter(lambda row: row != test_header)\\\n",
    "           .map(lambda row: [float(col) for col in row.split(',')])\n",
    "good_print(test_data, 3)"
   ]
  },
  {
   "cell_type": "code",
   "execution_count": 149,
   "metadata": {},
   "outputs": [
    {
     "name": "stdout",
     "output_type": "stream",
     "text": [
      "[842.0, 0.0, 2.2, 0.0, 1.0, 0.0, 7.0, 0.6, 188.0, 2.0, 2.0, 20.0, 756.0, 2549.0, 9.0, 7.0, 19.0, 0.0, 0.0, 1.0, 1.0]\n",
      "[1021.0, 1.0, 0.5, 1.0, 0.0, 1.0, 53.0, 0.7, 136.0, 3.0, 6.0, 905.0, 1988.0, 2631.0, 17.0, 3.0, 7.0, 1.0, 1.0, 0.0, 2.0]\n",
      "[563.0, 1.0, 0.5, 1.0, 2.0, 1.0, 41.0, 0.9, 145.0, 5.0, 6.0, 1263.0, 1716.0, 2603.0, 11.0, 2.0, 9.0, 1.0, 1.0, 0.0, 2.0]\n"
     ]
    }
   ],
   "source": [
    "train_data = train_data.filter(lambda row: row != train_header)\\\n",
    "           .map(lambda row: [float(col) for col in row.split(',')])\n",
    "good_print(train_data, 3)"
   ]
  },
  {
   "cell_type": "code",
   "execution_count": 150,
   "metadata": {},
   "outputs": [],
   "source": [
    "# формируем список совпадающих колонок\n",
    "A = set(test_header.split(',')) \n",
    "B = set(train_header.split(',')) \n",
    "headers_intersect = sorted(list(A & B))\n",
    "\n",
    "header = train_header.split(',')\n",
    "train_indexes = [header.index(col_name) for col_name in headers_intersect]\n",
    "\n",
    "header = test_header.split(',')\n",
    "test_indexes = [header.index(col_name) for col_name in headers_intersect]\n",
    "\n",
    "# берем из данных только совпапдающие колонки\n",
    "test_data = test_data.map(lambda x: [x[idx] for idx in test_indexes])\n",
    "train_data = train_data.map(lambda x: [x[idx] for idx in train_indexes])"
   ]
  },
  {
   "cell_type": "code",
   "execution_count": 151,
   "metadata": {},
   "outputs": [
    {
     "name": "stdout",
     "output_type": "stream",
     "text": [
      "[1043.0, 1.0, 1.8, 1.0, 14.0, 0.0, 5.0, 0.1, 193.0, 3.0, 16.0, 226.0, 1412.0, 3476.0, 12.0, 7.0, 2.0, 0.0, 1.0, 0.0]\n",
      "[841.0, 1.0, 0.5, 1.0, 4.0, 1.0, 61.0, 0.8, 191.0, 5.0, 12.0, 746.0, 857.0, 3895.0, 6.0, 0.0, 7.0, 1.0, 0.0, 0.0]\n",
      "[1807.0, 1.0, 2.8, 0.0, 1.0, 0.0, 27.0, 0.9, 186.0, 3.0, 4.0, 1270.0, 1366.0, 2396.0, 17.0, 10.0, 10.0, 0.0, 1.0, 1.0]\n"
     ]
    }
   ],
   "source": [
    "good_print(test_data, 3)"
   ]
  },
  {
   "cell_type": "code",
   "execution_count": 152,
   "metadata": {},
   "outputs": [
    {
     "name": "stdout",
     "output_type": "stream",
     "text": [
      "[842.0, 0.0, 2.2, 0.0, 1.0, 0.0, 7.0, 0.6, 188.0, 2.0, 2.0, 20.0, 756.0, 2549.0, 9.0, 7.0, 19.0, 0.0, 0.0, 1.0]\n",
      "[1021.0, 1.0, 0.5, 1.0, 0.0, 1.0, 53.0, 0.7, 136.0, 3.0, 6.0, 905.0, 1988.0, 2631.0, 17.0, 3.0, 7.0, 1.0, 1.0, 0.0]\n",
      "[563.0, 1.0, 0.5, 1.0, 2.0, 1.0, 41.0, 0.9, 145.0, 5.0, 6.0, 1263.0, 1716.0, 2603.0, 11.0, 2.0, 9.0, 1.0, 1.0, 0.0]\n"
     ]
    }
   ],
   "source": [
    "good_print(train_data, 3)"
   ]
  },
  {
   "cell_type": "code",
   "execution_count": 153,
   "metadata": {},
   "outputs": [],
   "source": [
    "#объединяем train и test \n",
    "data = train_data.union(test_data)"
   ]
  },
  {
   "cell_type": "code",
   "execution_count": 162,
   "metadata": {},
   "outputs": [
    {
     "name": "stdout",
     "output_type": "stream",
     "text": [
      "screen_ratio distribution: {0: 3000}\n"
     ]
    }
   ],
   "source": [
    "#находим распределение соотношения сторон экрана\n",
    "def screen_ratio(row):\n",
    "    height, width = row[14], row[15] \n",
    "    if height != 0 and width / height >= 16/9: \n",
    "        return (round(width / height, 2), 1)\n",
    "    else:\n",
    "        return (0, 1)\n",
    "    \n",
    "distrib = dict(data.map(lambda row: screen_ratio(row)).countByKey())\n",
    "distrib = dict(sorted(distrib.items(), key=lambda x:x[0]))\n",
    "print(f'screen_ratio distribution: {distrib}')"
   ]
  },
  {
   "cell_type": "code",
   "execution_count": 161,
   "metadata": {},
   "outputs": [
    {
     "name": "stdout",
     "output_type": "stream",
     "text": [
      "PPI distribution: {56: 1, 61: 3, 63: 1, 64: 1, 65: 1, 67: 2, 68: 1, 69: 1, 70: 1, 71: 1, 72: 2, 73: 3, 74: 2, 76: 2, 77: 1, 78: 2, 79: 6, 80: 5, 81: 3, 82: 6, 83: 8, 84: 6, 85: 4, 86: 3, 87: 8, 88: 5, 89: 5, 90: 4, 91: 3, 92: 6, 93: 6, 94: 3, 95: 4, 96: 8, 97: 5, 98: 4, 99: 6, 100: 5, 101: 4, 102: 8, 103: 7, 104: 3, 105: 6, 106: 3, 107: 5, 108: 2, 109: 7, 110: 8, 111: 5, 112: 8, 113: 3, 114: 8, 115: 5, 116: 6, 117: 8, 118: 9, 119: 8, 120: 9, 121: 11, 122: 13, 123: 6, 124: 7, 125: 7, 126: 6, 127: 8, 128: 12, 129: 5, 130: 2, 131: 4, 132: 10, 133: 8, 134: 5, 135: 7, 136: 9, 137: 12, 138: 15, 139: 11, 140: 8, 141: 3, 142: 6, 143: 8, 144: 11, 145: 9, 146: 3, 147: 9, 148: 6, 149: 5, 150: 11, 151: 10, 152: 5, 153: 9, 154: 10, 155: 8, 156: 7, 157: 11, 158: 11, 159: 6, 160: 3, 161: 6, 162: 11, 163: 6, 164: 6, 165: 10, 166: 12, 167: 7, 168: 11, 169: 11, 170: 7, 171: 12, 172: 10, 173: 8, 174: 10, 175: 12, 176: 13, 177: 2, 178: 5, 179: 9, 180: 12, 181: 12, 182: 11, 183: 10, 184: 8, 185: 11, 186: 7, 187: 7, 188: 13, 189: 9, 190: 9, 191: 8, 192: 7, 193: 9, 194: 6, 195: 7, 196: 9, 197: 15, 198: 11, 199: 14, 200: 11, 201: 11, 202: 10, 203: 8, 204: 10, 205: 12, 206: 12, 207: 6, 208: 10, 209: 18, 210: 12, 211: 3, 212: 9, 213: 6, 214: 13, 215: 10, 216: 3, 217: 4, 218: 6, 219: 9, 220: 10, 221: 12, 222: 6, 223: 6, 224: 10, 225: 17, 226: 9, 227: 10, 228: 9, 229: 9, 230: 11, 231: 8, 232: 7, 233: 7, 234: 4, 235: 10, 236: 11, 237: 6, 238: 9, 239: 9, 240: 6, 241: 6, 242: 13, 243: 4, 244: 8, 245: 9, 246: 13, 247: 6, 248: 6, 249: 12, 250: 9, 251: 8, 252: 4, 253: 8, 254: 3, 255: 10, 256: 10, 257: 4, 258: 15, 259: 9, 260: 6, 261: 7, 262: 11, 263: 7, 264: 8, 265: 13, 266: 6, 267: 6, 268: 6, 269: 8, 270: 7, 271: 5, 272: 8, 273: 9, 274: 8, 275: 6, 276: 8, 277: 10, 278: 7, 279: 7, 280: 4, 281: 7, 282: 9, 283: 11, 284: 4, 285: 13, 286: 2, 287: 8, 288: 7, 289: 8, 290: 5, 291: 8, 292: 16, 293: 4, 294: 6, 295: 4, 296: 9, 297: 7, 298: 5, 299: 6, 300: 7, 301: 9, 302: 2, 303: 7, 304: 8, 305: 10, 306: 3, 307: 3, 308: 7, 309: 7, 310: 8, 311: 9, 312: 7, 313: 4, 314: 6, 315: 9, 316: 4, 317: 11, 318: 4, 319: 6, 320: 3, 321: 6, 322: 8, 323: 5, 324: 1, 325: 10, 326: 7, 327: 5, 328: 7, 329: 5, 330: 5, 331: 8, 332: 8, 333: 5, 334: 3, 335: 5, 336: 8, 337: 9, 338: 7, 339: 5, 340: 5, 341: 5, 342: 2, 343: 7, 344: 5, 345: 10, 346: 7, 347: 4, 348: 3, 349: 5, 350: 8, 351: 1, 352: 3, 353: 5, 354: 3, 355: 6, 356: 4, 357: 2, 358: 7, 359: 8, 360: 7, 361: 6, 362: 7, 363: 6, 364: 7, 365: 6, 366: 2, 367: 2, 368: 5, 369: 3, 370: 4, 371: 4, 372: 8, 373: 3, 374: 3, 375: 3, 376: 6, 377: 7, 378: 4, 379: 3, 380: 4, 381: 7, 382: 4, 383: 6, 384: 3, 385: 4, 386: 2, 387: 5, 388: 5, 389: 7, 390: 4, 391: 2, 392: 6, 393: 6, 394: 4, 395: 5, 396: 1, 397: 4, 398: 4, 399: 7, 400: 4, 401: 2, 402: 4, 403: 3, 404: 2, 405: 3, 406: 6, 407: 5, 408: 5, 409: 5, 410: 2, 411: 4, 412: 2, 413: 4, 414: 3, 415: 4, 416: 2, 417: 2, 418: 2, 419: 3, 420: 4, 421: 7, 422: 3, 423: 3, 424: 3, 425: 3, 426: 4, 427: 3, 428: 3, 429: 6, 430: 6, 431: 3, 432: 5, 433: 2, 435: 3, 436: 3, 437: 2, 438: 2, 439: 5, 440: 5, 442: 3, 443: 4, 444: 2, 445: 1, 447: 4, 448: 2, 449: 2, 450: 1, 451: 6, 452: 2, 453: 3, 454: 2, 455: 2, 456: 1, 457: 2, 458: 1, 459: 4, 460: 3, 462: 1, 463: 1, 464: 3, 465: 1, 466: 4, 467: 1, 469: 4, 470: 2, 471: 2, 472: 3, 473: 2, 474: 1, 476: 1, 477: 1, 478: 1, 479: 2, 480: 2, 481: 3, 482: 3, 483: 2, 484: 3, 485: 3, 486: 2, 487: 1, 488: 2, 489: 1, 490: 3, 491: 2, 493: 3, 494: 2, 495: 2, 496: 1, 497: 1, 498: 1, 499: 3, 500: 2, 501: 3, 502: 2, 503: 6, 505: 1, 506: 4, 507: 2, 508: 1, 511: 2, 512: 3, 513: 5, 515: 1, 516: 1, 517: 3, 518: 1, 519: 5, 520: 1, 521: 5, 522: 2, 523: 1, 524: 1, 525: 3, 527: 6, 528: 1, 529: 1, 530: 3, 531: 4, 532: 4, 533: 1, 534: 1, 535: 2, 536: 2, 537: 1, 538: 2, 541: 3, 542: 3, 543: 1, 545: 1, 546: 2, 547: 3, 548: 4, 549: 2, 551: 2, 552: 1, 553: 4, 554: 4, 555: 1, 557: 3, 558: 1, 559: 1, 560: 2, 562: 1, 563: 1, 564: 1, 565: 2, 566: 2, 567: 3, 569: 3, 570: 2, 571: 1, 573: 6, 574: 1, 575: 1, 576: 1, 577: 2, 578: 2, 580: 1, 581: 3, 582: 1, 583: 4, 584: 1, 585: 2, 586: 3, 588: 2, 589: 2, 592: 2, 596: 3, 597: 2, 598: 1, 599: 2, 600: 1, 602: 3, 604: 3, 605: 2, 606: 3, 607: 4, 608: 1, 610: 1, 612: 1, 614: 1, 615: 3, 616: 1, 617: 1, 618: 2, 619: 1, 620: 2, 621: 1, 622: 2, 623: 1, 624: 1, 625: 3, 627: 2, 629: 3, 630: 1, 631: 1, 632: 1, 633: 1, 634: 2, 635: 1, 636: 2, 637: 2, 638: 1, 640: 1, 641: 1, 643: 4, 644: 1, 645: 2, 646: 3, 647: 2, 648: 2, 649: 1, 652: 1, 653: 2, 654: 1, 656: 1, 658: 1, 659: 3, 660: 2, 661: 3, 663: 3, 664: 1, 665: 2, 668: 1, 670: 2, 671: 1, 672: 2, 674: 1, 676: 1, 677: 1, 679: 1, 680: 2, 682: 1, 683: 1, 687: 1, 690: 1, 692: 1, 693: 2, 694: 2, 696: 1, 698: 1, 699: 2, 700: 1, 701: 1, 702: 3, 704: 1, 705: 3, 706: 3, 709: 1, 710: 1, 711: 1, 712: 1, 713: 1, 718: 2, 719: 1, 720: 3, 724: 1, 725: 1, 727: 1, 732: 2, 735: 1, 736: 1, 739: 1, 741: 1, 742: 1, 743: 2, 744: 1, 746: 2, 747: 1, 748: 1, 750: 2, 753: 2, 754: 1, 757: 1, 759: 1, 764: 1, 765: 1, 766: 1, 772: 1, 773: 1, 776: 2, 778: 1, 781: 1, 789: 1, 790: 1, 792: 1, 795: 1, 796: 3, 800: 1, 803: 2, 804: 1, 805: 1, 809: 1, 811: 2, 814: 1, 819: 2, 820: 2, 821: 1, 822: 1, 828: 1, 829: 2, 830: 1, 833: 2, 834: 1, 837: 1, 838: 2, 840: 1, 846: 1, 848: 2, 854: 1, 855: 1, 861: 1, 862: 1, 871: 1, 872: 2, 875: 1, 880: 1, 882: 2, 890: 1, 896: 1, 898: 1, 903: 1, 909: 1, 915: 3, 916: 1, 919: 1, 923: 2, 924: 1, 932: 1, 941: 2, 947: 1, 949: 1, 956: 1, 960: 2, 980: 1, 989: 1, 1002: 1, 1005: 1, 1009: 2, 1014: 1, 1024: 1, 1029: 1, 1040: 1, 1056: 1, 1069: 1, 1070: 1, 1071: 1, 1081: 1, 1093: 1, 1094: 1, 1095: 1, 1105: 1, 1108: 1, 1138: 1, 1235: 1, 1253: 1, 1287: 1}\n"
     ]
    }
   ],
   "source": [
    "#находим распределение плотности пикселей\n",
    "def PPI(row):\n",
    "    height, width = row[14], row[15]\n",
    "    diag = 0.393701 * (height**2 + width**2)**0.5\n",
    "    px_height, px_width = row[11], row[12]\n",
    "    diag_px = (px_height**2 + px_width**2)**0.5\n",
    "    return (round(diag_px / diag), 1)\n",
    "\n",
    "distrib = dict(data.map(lambda row: PPI(row)).countByKey())\n",
    "distrib = dict(sorted(distrib.items(), key=lambda x:x[0]))\n",
    "print(f'PPI distribution: {distrib}')"
   ]
  },
  {
   "cell_type": "code",
   "execution_count": 187,
   "metadata": {},
   "outputs": [],
   "source": [
    "train = spark.read.csv('train.csv', header=True, inferSchema=True)"
   ]
  },
  {
   "cell_type": "code",
   "execution_count": 188,
   "metadata": {},
   "outputs": [
    {
     "name": "stdout",
     "output_type": "stream",
     "text": [
      "-RECORD 0-------------\n",
      " battery_power | 842  \n",
      " blue          | 0    \n",
      " clock_speed   | 2.2  \n",
      " dual_sim      | 0    \n",
      " fc            | 1    \n",
      " four_g        | 0    \n",
      " int_memory    | 7    \n",
      " m_dep         | 0.6  \n",
      " mobile_wt     | 188  \n",
      " n_cores       | 2    \n",
      " pc            | 2    \n",
      " px_height     | 20   \n",
      " px_width      | 756  \n",
      " ram           | 2549 \n",
      " sc_h          | 9    \n",
      " sc_w          | 7    \n",
      " talk_time     | 19   \n",
      " three_g       | 0    \n",
      " touch_screen  | 0    \n",
      " wifi          | 1    \n",
      " price_range   | 1    \n",
      "only showing top 1 row\n",
      "\n"
     ]
    }
   ],
   "source": [
    "train.show(1, vertical=True)"
   ]
  },
  {
   "cell_type": "code",
   "execution_count": 189,
   "metadata": {},
   "outputs": [],
   "source": [
    "test = spark.read.csv('test.csv', header=True, inferSchema=True)"
   ]
  },
  {
   "cell_type": "code",
   "execution_count": 190,
   "metadata": {},
   "outputs": [
    {
     "name": "stdout",
     "output_type": "stream",
     "text": [
      "-RECORD 0-------------\n",
      " id            | 1    \n",
      " battery_power | 1043 \n",
      " blue          | 1    \n",
      " clock_speed   | 1.8  \n",
      " dual_sim      | 1    \n",
      " fc            | 14   \n",
      " four_g        | 0    \n",
      " int_memory    | 5    \n",
      " m_dep         | 0.1  \n",
      " mobile_wt     | 193  \n",
      " n_cores       | 3    \n",
      " pc            | 16   \n",
      " px_height     | 226  \n",
      " px_width      | 1412 \n",
      " ram           | 3476 \n",
      " sc_h          | 12   \n",
      " sc_w          | 7    \n",
      " talk_time     | 2    \n",
      " three_g       | 0    \n",
      " touch_screen  | 1    \n",
      " wifi          | 0    \n",
      "only showing top 1 row\n",
      "\n"
     ]
    }
   ],
   "source": [
    "test.show(1, vertical=True)"
   ]
  },
  {
   "cell_type": "code",
   "execution_count": 217,
   "metadata": {},
   "outputs": [
    {
     "data": {
      "text/plain": [
       "[('battery_power', 'float'),\n",
       " ('blue', 'float'),\n",
       " ('clock_speed', 'float'),\n",
       " ('dual_sim', 'float'),\n",
       " ('fc', 'float'),\n",
       " ('four_g', 'float'),\n",
       " ('int_memory', 'float'),\n",
       " ('m_dep', 'float'),\n",
       " ('mobile_wt', 'float'),\n",
       " ('n_cores', 'float'),\n",
       " ('pc', 'float'),\n",
       " ('px_height', 'float'),\n",
       " ('px_width', 'float'),\n",
       " ('ram', 'float'),\n",
       " ('sc_h', 'float'),\n",
       " ('sc_w', 'float'),\n",
       " ('talk_time', 'float'),\n",
       " ('three_g', 'float'),\n",
       " ('touch_screen', 'float'),\n",
       " ('wifi', 'float'),\n",
       " ('price_range', 'float')]"
      ]
     },
     "execution_count": 217,
     "metadata": {},
     "output_type": "execute_result"
    }
   ],
   "source": [
    "from pyspark.sql.functions import col, date_trunc\n",
    "\n",
    "# меняем тип всех столбцов на float\n",
    "test = test.select(*(col(column).cast(\"float\").alias(column) for column in test.columns))\n",
    "train = train.select(*(col(column).cast(\"float\").alias(column) for column in train.columns))\n",
    "\n",
    "train.dtypes"
   ]
  },
  {
   "cell_type": "code",
   "execution_count": 223,
   "metadata": {},
   "outputs": [],
   "source": [
    "# объединяем train и test \n",
    "df = train.unionByName(test, allowMissingColumns = True)\n",
    "\n",
    "# добавляем два новых столбца screen_ratio, PPI\n",
    "df_save = df.select('talk_time', 'sc_w', 'sc_h', 'px_height', 'px_width') \\\n",
    "              .withColumn('screen_ratio', col('sc_w') / col('sc_h')) \\\n",
    "              .withColumn('PPI',  \\\n",
    "                   (col('px_height')**2 + col('px_width')**2)**0.5 \\\n",
    "                 / (0.393701 * (col('sc_h')**2 + col('sc_w')**2)**0.5))"
   ]
  },
  {
   "cell_type": "code",
   "execution_count": 219,
   "metadata": {},
   "outputs": [
    {
     "name": "stdout",
     "output_type": "stream",
     "text": [
      "+---------+----+----+---------+--------+--------------------+------------------+\n",
      "|talk_time|sc_w|sc_h|px_height|px_width|        screen_ratio|               PPI|\n",
      "+---------+----+----+---------+--------+--------------------+------------------+\n",
      "|     19.0| 7.0| 9.0|     20.0|   756.0|  0.7777777777777778|168.47502240137618|\n",
      "|      7.0| 3.0|17.0|    905.0|  1988.0| 0.17647058823529413|   321.39398909893|\n",
      "|      9.0| 2.0|11.0|   1263.0|  1716.0| 0.18181818181818182|  484.058701710938|\n",
      "|     11.0| 8.0|16.0|   1216.0|  1786.0|                 0.5|306.79264370826786|\n",
      "|     15.0| 2.0| 8.0|   1208.0|  1212.0|                0.25| 527.0841869616228|\n",
      "|     10.0| 1.0|17.0|   1004.0|  1654.0|0.058823529411764705|288.59370847632863|\n",
      "|     18.0| 8.0|13.0|    381.0|  1018.0|  0.6153846153846154|180.87128652921112|\n",
      "|      5.0| 3.0|16.0|    512.0|  1149.0|              0.1875| 196.2732594235708|\n",
      "|     20.0| 1.0|17.0|    386.0|   836.0|0.058823529411764705| 137.3424378662623|\n",
      "|     12.0|10.0|19.0|   1137.0|  1224.0|  0.5263157894736842|197.63263382126001|\n",
      "|      7.0| 2.0| 5.0|    248.0|   874.0|                 0.4| 428.5104858082609|\n",
      "|     13.0| 9.0|14.0|    151.0|  1005.0|  0.6428571428571429|155.09835036440202|\n",
      "|      2.0| 0.0|18.0|    607.0|   748.0|                 0.0|135.93270744730322|\n",
      "|      4.0| 1.0| 7.0|    344.0|  1440.0| 0.14285714285714285| 531.8172435113123|\n",
      "|      3.0| 9.0|14.0|    356.0|   563.0|  0.6428571428571429|101.65781219945474|\n",
      "|     11.0|15.0|17.0|    862.0|  1864.0|  0.8823529411764706| 230.0814086909217|\n",
      "|     19.0| 9.0|10.0|    984.0|  1850.0|                 0.9| 395.6068896496802|\n",
      "|     18.0| 2.0|10.0|    441.0|   810.0|                 0.2|229.70722278980537|\n",
      "|     16.0|13.0|19.0|    658.0|   878.0|  0.6842105263157895| 121.0546217639694|\n",
      "|     18.0| 1.0|11.0|    902.0|  1064.0| 0.09090909090909091| 320.7683470712288|\n",
      "+---------+----+----+---------+--------+--------------------+------------------+\n",
      "only showing top 20 rows\n",
      "\n"
     ]
    }
   ],
   "source": [
    "df_save.show()"
   ]
  },
  {
   "cell_type": "code",
   "execution_count": null,
   "metadata": {},
   "outputs": [],
   "source": [
    "df_save.write.options(header='True', delimiter=';') \\\n",
    "             .csv(\"data.csv\")"
   ]
  }
 ],
 "metadata": {
  "kernelspec": {
   "display_name": "Python 3",
   "language": "python",
   "name": "python3"
  },
  "language_info": {
   "codemirror_mode": {
    "name": "ipython",
    "version": 3
   },
   "file_extension": ".py",
   "mimetype": "text/x-python",
   "name": "python",
   "nbconvert_exporter": "python",
   "pygments_lexer": "ipython3",
   "version": "3.8.5"
  }
 },
 "nbformat": 4,
 "nbformat_minor": 4
}
